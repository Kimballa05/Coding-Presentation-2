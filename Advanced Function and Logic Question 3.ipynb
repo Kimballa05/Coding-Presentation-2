{
 "cells": [
  {
   "cell_type": "code",
   "execution_count": 11,
   "id": "af1e31b7",
   "metadata": {},
   "outputs": [
    {
     "data": {
      "text/plain": [
       "2"
      ]
     },
     "execution_count": 11,
     "metadata": {},
     "output_type": "execute_result"
    }
   ],
   "source": [
    "#Question 3: Is it possible in python to overwrite built-in functions?\n",
    "\n",
    "\n",
    "def print(x):\n",
    "   return x + 1\n",
    "\n",
    "#Call local print function, returns 2.\n",
    "print(1)\n",
    "\n",
    "#But how would we get built-in print function back?\n",
    "\n",
    "#Deletes local print function\n",
    "#del print\n",
    "\n",
    "#Built-in print function works as intended\n",
    "#print(\"Normal print function.\")\n",
    "\n",
    "#Can also use this for builtin print function if you insist on still using other print function.\n",
    "#__builtin__.print('Printing with the original built-in')"
   ]
  },
  {
   "cell_type": "code",
   "execution_count": null,
   "id": "1346e02a",
   "metadata": {},
   "outputs": [],
   "source": []
  }
 ],
 "metadata": {
  "kernelspec": {
   "display_name": "Python 3 (ipykernel)",
   "language": "python",
   "name": "python3"
  },
  "language_info": {
   "codemirror_mode": {
    "name": "ipython",
    "version": 3
   },
   "file_extension": ".py",
   "mimetype": "text/x-python",
   "name": "python",
   "nbconvert_exporter": "python",
   "pygments_lexer": "ipython3",
   "version": "3.10.6"
  }
 },
 "nbformat": 4,
 "nbformat_minor": 5
}
